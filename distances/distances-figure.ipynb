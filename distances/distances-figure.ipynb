{
 "cells": [
  {
   "cell_type": "code",
   "execution_count": 52,
   "id": "a9627709-3516-4a0b-b4e1-faca8f39f296",
   "metadata": {},
   "outputs": [],
   "source": [
    "from vmol.view import VMolecule\n",
    "from vmol.tools.transformer import AtomicTrans\n",
    "from ase.io import read, write\n",
    "import numpy as np"
   ]
  },
  {
   "cell_type": "code",
   "execution_count": 7,
   "id": "eadff48b-68d4-471e-a5ad-67562eadf01c",
   "metadata": {},
   "outputs": [],
   "source": [
    "tran = AtomicTrans()"
   ]
  },
  {
   "cell_type": "code",
   "execution_count": 50,
   "id": "523333fb-5149-4acf-a5ce-674496856c96",
   "metadata": {},
   "outputs": [],
   "source": [
    "mol1 = read('../2_0-Hshift/opt_EPRII.xyz')\n",
    "mol2 = read('../3_0-Rhop/opt_EPRII.xyz')\n",
    "\n",
    "tran.xy_alignment(mol1, 33, 36, 2)\n",
    "tran.xy_alignment(mol2, 36, 35, 4)\n",
    "shift = 6.3\n",
    "tran.apply_trans(mol1, np.identity(3), shift=[-shift, 0, 0 ])\n",
    "tran.apply_trans(mol2, np.identity(3), shift=[shift, 0, 0 ])\n",
    "\n",
    "atoms = mol1 + mol2"
   ]
  },
  {
   "cell_type": "code",
   "execution_count": 51,
   "id": "4ccca1ff-7e07-4211-8928-bfb07a3bc0bb",
   "metadata": {},
   "outputs": [
    {
     "data": {
      "text/html": [
       "<div id=\"glowscript\" class=\"glowscript\"></div>"
      ],
      "text/plain": [
       "<IPython.core.display.HTML object>"
      ]
     },
     "metadata": {},
     "output_type": "display_data"
    },
    {
     "data": {
      "application/javascript": [
       "if (typeof Jupyter !== \"undefined\") { window.__context = { glowscript_container: $(\"#glowscript\").removeAttr(\"id\")};}else{ element.textContent = ' ';}"
      ],
      "text/plain": [
       "<IPython.core.display.Javascript object>"
      ]
     },
     "metadata": {},
     "output_type": "display_data"
    }
   ],
   "source": [
    "vm = VMolecule(atoms)"
   ]
  },
  {
   "cell_type": "code",
   "execution_count": 53,
   "id": "09d814c1-7134-4023-8187-914f9f46407a",
   "metadata": {},
   "outputs": [],
   "source": [
    "write('both_mols.xyz', atoms)"
   ]
  },
  {
   "cell_type": "code",
   "execution_count": null,
   "id": "d2a0e9b8-506b-43f7-a02b-ba39f15c0081",
   "metadata": {},
   "outputs": [],
   "source": []
  }
 ],
 "metadata": {
  "kernelspec": {
   "display_name": "Python 3 (ipykernel)",
   "language": "python",
   "name": "python3"
  },
  "language_info": {
   "codemirror_mode": {
    "name": "ipython",
    "version": 3
   },
   "file_extension": ".py",
   "mimetype": "text/x-python",
   "name": "python",
   "nbconvert_exporter": "python",
   "pygments_lexer": "ipython3",
   "version": "3.9.18"
  }
 },
 "nbformat": 4,
 "nbformat_minor": 5
}
