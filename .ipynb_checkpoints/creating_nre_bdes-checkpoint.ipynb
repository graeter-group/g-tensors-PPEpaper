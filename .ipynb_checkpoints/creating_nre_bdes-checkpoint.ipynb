{
 "cells": [
  {
   "cell_type": "code",
   "execution_count": 17,
   "id": "01de1792-5483-4880-89ff-38fc6b7a7d74",
   "metadata": {},
   "outputs": [],
   "source": [
    "from vmol.view import VMolecule"
   ]
  },
  {
   "cell_type": "code",
   "execution_count": 86,
   "id": "2a6225b6-e5be-4d33-8f53-5e6167edff1c",
   "metadata": {},
   "outputs": [],
   "source": [
    "from myutils.ase_utils.molecules import MoleculeSetter\n",
    "from ase import Atom\n",
    "from ase.io import read\n",
    "import numpy as np\n",
    "\n",
    "\n",
    "atoms = read(\"7_0-triple_broken//opt.xyz\")\n",
    "\n",
    "#side1 = [ i for i in range(86, 97)]\n",
    "side2 = [ i for i in range(38, 49)]\n",
    "all = np.array([2, 35] + side2)\n",
    "for n in all[::-1]:\n",
    "    atoms.pop(n - 1)\n",
    "\n",
    "ms = MoleculeSetter(atoms)\n",
    "CHd = atoms.get_distance(7, 3)\n",
    "CCd = atoms.get_distance(0, 1)\n",
    "ms.xy_alignment(4, 1, center=4)\n",
    "ms.atoms += Atom('H', position=[-CHd, 0, 0])\n",
    "\n",
    "ms.xy_alignment(0, 1, center=0)\n",
    "ms.atoms += Atom('C', position=[-CCd, 0, 0])\n",
    "#ms.xy_alignment(3, 0, center=3)\n",
    "#ms.atoms += Atom('H', position=[-CHd, 0, 0])"
   ]
  },
  {
   "cell_type": "code",
   "execution_count": 87,
   "id": "a8b9a361-e2a0-4ab7-8581-e05fa99baf63",
   "metadata": {},
   "outputs": [
    {
     "data": {
      "text/html": [
       "<div id=\"glowscript\" class=\"glowscript\"></div>"
      ],
      "text/plain": [
       "<IPython.core.display.HTML object>"
      ]
     },
     "metadata": {},
     "output_type": "display_data"
    },
    {
     "data": {
      "application/javascript": [
       "if (typeof Jupyter !== \"undefined\") { window.__context = { glowscript_container: $(\"#glowscript\").removeAttr(\"id\")};}else{ element.textContent = ' ';}"
      ],
      "text/plain": [
       "<IPython.core.display.Javascript object>"
      ]
     },
     "metadata": {},
     "output_type": "display_data"
    }
   ],
   "source": [
    "vm = VMolecule(atoms)"
   ]
  },
  {
   "cell_type": "code",
   "execution_count": null,
   "id": "173c3165-cf2d-442b-a93c-ea18c01ad823",
   "metadata": {},
   "outputs": [],
   "source": []
  }
 ],
 "metadata": {
  "kernelspec": {
   "display_name": "Python 3 (ipykernel)",
   "language": "python",
   "name": "python3"
  },
  "language_info": {
   "codemirror_mode": {
    "name": "ipython",
    "version": 3
   },
   "file_extension": ".py",
   "mimetype": "text/x-python",
   "name": "python",
   "nbconvert_exporter": "python",
   "pygments_lexer": "ipython3",
   "version": "3.9.18"
  }
 },
 "nbformat": 4,
 "nbformat_minor": 5
}
