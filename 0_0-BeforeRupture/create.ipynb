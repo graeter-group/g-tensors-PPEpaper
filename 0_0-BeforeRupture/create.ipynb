{
 "cells": [
  {
   "cell_type": "code",
   "execution_count": 2,
   "metadata": {},
   "outputs": [
    {
     "name": "stdout",
     "output_type": "stream",
     "text": [
      "/home/mbm\n"
     ]
    }
   ],
   "source": [
    "!pwd"
   ]
  },
  {
   "cell_type": "code",
   "execution_count": 1,
   "metadata": {},
   "outputs": [
    {
     "data": {
      "application/vnd.jupyter.widget-view+json": {
       "model_id": "7917dd04d2994dc2baeb5fcd813b676b",
       "version_major": 2,
       "version_minor": 0
      },
      "text/plain": []
     },
     "metadata": {},
     "output_type": "display_data"
    },
    {
     "ename": "FileNotFoundError",
     "evalue": "[Errno 2] No such file or directory: '../reduced/opt.xyz'",
     "output_type": "error",
     "traceback": [
      "\u001b[0;31m---------------------------------------------------------------------------\u001b[0m",
      "\u001b[0;31mFileNotFoundError\u001b[0m                         Traceback (most recent call last)",
      "\u001b[1;32m/home/mbm/g-tensor/0_0-BeforeRupture/create.ipynb Cell 1\u001b[0m line \u001b[0;36m7\n\u001b[1;32m      <a href='vscode-notebook-cell:/home/mbm/g-tensor/0_0-BeforeRupture/create.ipynb#W0sdW50aXRsZWQ%3D?line=3'>4</a>\u001b[0m \u001b[39mimport\u001b[39;00m \u001b[39mnumpy\u001b[39;00m \u001b[39mas\u001b[39;00m \u001b[39mnp\u001b[39;00m\n\u001b[1;32m      <a href='vscode-notebook-cell:/home/mbm/g-tensor/0_0-BeforeRupture/create.ipynb#W0sdW50aXRsZWQ%3D?line=4'>5</a>\u001b[0m \u001b[39mfrom\u001b[39;00m \u001b[39mnglview\u001b[39;00m \u001b[39mimport\u001b[39;00m show_ase\n\u001b[0;32m----> <a href='vscode-notebook-cell:/home/mbm/g-tensor/0_0-BeforeRupture/create.ipynb#W0sdW50aXRsZWQ%3D?line=6'>7</a>\u001b[0m molecule \u001b[39m=\u001b[39m read(\u001b[39m'\u001b[39;49m\u001b[39m../reduced/opt.xyz\u001b[39;49m\u001b[39m'\u001b[39;49m)\n\u001b[1;32m      <a href='vscode-notebook-cell:/home/mbm/g-tensor/0_0-BeforeRupture/create.ipynb#W0sdW50aXRsZWQ%3D?line=7'>8</a>\u001b[0m CHd \u001b[39m=\u001b[39m molecule\u001b[39m.\u001b[39mget_distance(\u001b[39m5\u001b[39m, \u001b[39m9\u001b[39m)\n\u001b[1;32m      <a href='vscode-notebook-cell:/home/mbm/g-tensor/0_0-BeforeRupture/create.ipynb#W0sdW50aXRsZWQ%3D?line=8'>9</a>\u001b[0m ring\u001b[39m=\u001b[39m\u001b[39m2.75\u001b[39m\u001b[39m/\u001b[39m\u001b[39m2\u001b[39m\n",
      "File \u001b[0;32m~/anaconda3/envs/myutils/lib/python3.9/site-packages/ase/io/formats.py:729\u001b[0m, in \u001b[0;36mread\u001b[0;34m(filename, index, format, parallel, do_not_split_by_at_sign, **kwargs)\u001b[0m\n\u001b[1;32m    727\u001b[0m \u001b[39mif\u001b[39;00m index \u001b[39mis\u001b[39;00m \u001b[39mNone\u001b[39;00m:\n\u001b[1;32m    728\u001b[0m     index \u001b[39m=\u001b[39m \u001b[39m-\u001b[39m\u001b[39m1\u001b[39m\n\u001b[0;32m--> 729\u001b[0m \u001b[39mformat\u001b[39m \u001b[39m=\u001b[39m \u001b[39mformat\u001b[39m \u001b[39mor\u001b[39;00m filetype(filename, read\u001b[39m=\u001b[39;49m\u001b[39misinstance\u001b[39;49m(filename, \u001b[39mstr\u001b[39;49m))\n\u001b[1;32m    731\u001b[0m io \u001b[39m=\u001b[39m get_ioformat(\u001b[39mformat\u001b[39m)\n\u001b[1;32m    732\u001b[0m \u001b[39mif\u001b[39;00m \u001b[39misinstance\u001b[39m(index, (\u001b[39mslice\u001b[39m, \u001b[39mstr\u001b[39m)):\n",
      "File \u001b[0;32m~/anaconda3/envs/myutils/lib/python3.9/site-packages/ase/io/formats.py:920\u001b[0m, in \u001b[0;36mfiletype\u001b[0;34m(filename, read, guess)\u001b[0m\n\u001b[1;32m    917\u001b[0m     \u001b[39mreturn\u001b[39;00m ext\n\u001b[1;32m    919\u001b[0m \u001b[39mif\u001b[39;00m orig_filename \u001b[39m==\u001b[39m filename:\n\u001b[0;32m--> 920\u001b[0m     fd \u001b[39m=\u001b[39m open_with_compression(filename, \u001b[39m'\u001b[39;49m\u001b[39mrb\u001b[39;49m\u001b[39m'\u001b[39;49m)\n\u001b[1;32m    921\u001b[0m \u001b[39melse\u001b[39;00m:\n\u001b[1;32m    922\u001b[0m     fd \u001b[39m=\u001b[39m orig_filename  \u001b[39m# type: ignore\u001b[39;00m\n",
      "File \u001b[0;32m~/anaconda3/envs/myutils/lib/python3.9/site-packages/ase/io/formats.py:551\u001b[0m, in \u001b[0;36mopen_with_compression\u001b[0;34m(filename, mode)\u001b[0m\n\u001b[1;32m    548\u001b[0m     \u001b[39mreturn\u001b[39;00m lzma\u001b[39m.\u001b[39mopen(filename, mode)\n\u001b[1;32m    549\u001b[0m \u001b[39melse\u001b[39;00m:\n\u001b[1;32m    550\u001b[0m     \u001b[39m# Either None or unknown string\u001b[39;00m\n\u001b[0;32m--> 551\u001b[0m     \u001b[39mreturn\u001b[39;00m \u001b[39mopen\u001b[39;49m(filename, mode)\n",
      "\u001b[0;31mFileNotFoundError\u001b[0m: [Errno 2] No such file or directory: '../reduced/opt.xyz'"
     ]
    }
   ],
   "source": [
    "from myutils.ase_utils.molecules import MoleculeSetter\n",
    "from ase.io import read, write\n",
    "from ase import Atom\n",
    "import numpy as np\n",
    "from nglview import show_ase\n",
    "\n",
    "molecule = read('../reduced/opt.xyz')\n",
    "CHd = molecule.get_distance(5, 9)\n",
    "ring=2.75/2\n",
    "\n",
    "# RadHop\n",
    "ms = MoleculeSetter(molecule)\n",
    "#ms.atoms.pop(12)\n",
    "\n",
    "# RadHop with left radical\n",
    "ms.xy_alignment(6, 3, 4)\n",
    "ms.apply_trans(np.identity(3), shift=-ms.atoms[35].position)\n",
    "\n",
    "ms.atoms.pop(37) # H attached to the Carbon\n",
    "new_phenyl = ms.atoms[3: 9].copy()\n",
    "ms.atoms += new_phenyl\n",
    "ms.apply_trans(np.identity(3), shift=-ms.atoms[-6].position - [1.43, 0, 0],\n",
    "               indexes=[39, 40, 41, 42, 43, 44])\n",
    "\n",
    "ms.xy_alignment(39, 42)\n",
    "H = Atom('H', position=[ring+CHd, 0, 0])\n",
    "ms.atoms += H\n",
    "ms.xy_alignment(40, 43)\n",
    "H = Atom('H', position=[ring+CHd, 0, 0])\n",
    "ms.atoms += H\n",
    "H = Atom('H', position=[-ring-CHd, 0, 0])\n",
    "ms.atoms += H\n",
    "ms.xy_alignment(41, 44)\n",
    "H = Atom('H', position=[ring+CHd, 0, 0])\n",
    "ms.atoms += H\n",
    "H = Atom('H', position=[-ring-CHd, 0, 0])\n",
    "ms.atoms += H\n",
    "ms.xy_alignment(3, 6, 7)\n",
    "\n",
    "ms.atoms.pop(36)\n",
    "\n",
    "show_ase(ms.atoms)"
   ]
  }
 ],
 "metadata": {
  "kernelspec": {
   "display_name": "myutils",
   "language": "python",
   "name": "python3"
  },
  "language_info": {
   "codemirror_mode": {
    "name": "ipython",
    "version": 3
   },
   "file_extension": ".py",
   "mimetype": "text/x-python",
   "name": "python",
   "nbconvert_exporter": "python",
   "pygments_lexer": "ipython3",
   "version": "3.9.17"
  }
 },
 "nbformat": 4,
 "nbformat_minor": 2
}
